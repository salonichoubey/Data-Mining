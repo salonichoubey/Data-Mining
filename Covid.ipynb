{
  "nbformat": 4,
  "nbformat_minor": 0,
  "metadata": {
    "colab": {
      "name": "Covid.ipynb",
      "provenance": [],
      "collapsed_sections": [],
      "authorship_tag": "ABX9TyNTb5OQOvxsloqmCORR/rdK",
      "include_colab_link": true
    },
    "kernelspec": {
      "name": "python3",
      "display_name": "Python 3"
    },
    "language_info": {
      "name": "python"
    }
  },
  "cells": [
    {
      "cell_type": "markdown",
      "metadata": {
        "id": "view-in-github",
        "colab_type": "text"
      },
      "source": [
        "<a href=\"https://colab.research.google.com/github/salonichoubey/Data-Mining/blob/main/Covid.ipynb\" target=\"_parent\"><img src=\"https://colab.research.google.com/assets/colab-badge.svg\" alt=\"Open In Colab\"/></a>"
      ]
    },
    {
      "cell_type": "markdown",
      "metadata": {
        "id": "EqLqrDkekbrw"
      },
      "source": [
        "Importing Libraries\n"
      ]
    },
    {
      "cell_type": "code",
      "metadata": {
        "id": "T-PkeNQikgcf"
      },
      "source": [
        "import matplotlib.pyplot as plt\n",
        "import numpy as np\n",
        "import pandas as pd"
      ],
      "execution_count": 1,
      "outputs": []
    },
    {
      "cell_type": "markdown",
      "metadata": {
        "id": "3or5Ihjl66xC"
      },
      "source": [
        "Read Dataset"
      ]
    },
    {
      "cell_type": "code",
      "metadata": {
        "colab": {
          "base_uri": "https://localhost:8080/",
          "height": 1000
        },
        "id": "Qn0OkN7U6-WR",
        "outputId": "c99ce798-12fb-4a7f-8d73-b0681b3fe639"
      },
      "source": [
        "data = pd.read_csv(\"Latest Covid-19 India Status.csv\");\n",
        "data"
      ],
      "execution_count": 2,
      "outputs": [
        {
          "output_type": "execute_result",
          "data": {
            "text/html": [
              "\n",
              "  <div id=\"df-ddd83574-1ba4-472c-902d-c36d1d0b3c25\">\n",
              "    <div class=\"colab-df-container\">\n",
              "      <div>\n",
              "<style scoped>\n",
              "    .dataframe tbody tr th:only-of-type {\n",
              "        vertical-align: middle;\n",
              "    }\n",
              "\n",
              "    .dataframe tbody tr th {\n",
              "        vertical-align: top;\n",
              "    }\n",
              "\n",
              "    .dataframe thead th {\n",
              "        text-align: right;\n",
              "    }\n",
              "</style>\n",
              "<table border=\"1\" class=\"dataframe\">\n",
              "  <thead>\n",
              "    <tr style=\"text-align: right;\">\n",
              "      <th></th>\n",
              "      <th>State/UTs</th>\n",
              "      <th>Total Cases</th>\n",
              "      <th>Active</th>\n",
              "      <th>Discharged</th>\n",
              "      <th>Deaths</th>\n",
              "      <th>Active Ratio (%)</th>\n",
              "      <th>Discharge Ratio (%)</th>\n",
              "      <th>Death Ratio (%)</th>\n",
              "    </tr>\n",
              "  </thead>\n",
              "  <tbody>\n",
              "    <tr>\n",
              "      <th>0</th>\n",
              "      <td>Andaman and Nicobar</td>\n",
              "      <td>7584</td>\n",
              "      <td>8</td>\n",
              "      <td>7447</td>\n",
              "      <td>129</td>\n",
              "      <td>0.11</td>\n",
              "      <td>98.19</td>\n",
              "      <td>1.70</td>\n",
              "    </tr>\n",
              "    <tr>\n",
              "      <th>1</th>\n",
              "      <td>Andhra Pradesh</td>\n",
              "      <td>2030849</td>\n",
              "      <td>14652</td>\n",
              "      <td>2002187</td>\n",
              "      <td>14010</td>\n",
              "      <td>0.72</td>\n",
              "      <td>98.59</td>\n",
              "      <td>0.69</td>\n",
              "    </tr>\n",
              "    <tr>\n",
              "      <th>2</th>\n",
              "      <td>Arunachal Pradesh</td>\n",
              "      <td>53807</td>\n",
              "      <td>533</td>\n",
              "      <td>53004</td>\n",
              "      <td>270</td>\n",
              "      <td>0.99</td>\n",
              "      <td>98.51</td>\n",
              "      <td>0.50</td>\n",
              "    </tr>\n",
              "    <tr>\n",
              "      <th>3</th>\n",
              "      <td>Assam</td>\n",
              "      <td>595669</td>\n",
              "      <td>5615</td>\n",
              "      <td>584296</td>\n",
              "      <td>5758</td>\n",
              "      <td>0.94</td>\n",
              "      <td>98.09</td>\n",
              "      <td>0.97</td>\n",
              "    </tr>\n",
              "    <tr>\n",
              "      <th>4</th>\n",
              "      <td>Bihar</td>\n",
              "      <td>725833</td>\n",
              "      <td>77</td>\n",
              "      <td>716098</td>\n",
              "      <td>9658</td>\n",
              "      <td>0.01</td>\n",
              "      <td>98.66</td>\n",
              "      <td>1.33</td>\n",
              "    </tr>\n",
              "    <tr>\n",
              "      <th>5</th>\n",
              "      <td>Chandigarh</td>\n",
              "      <td>65160</td>\n",
              "      <td>32</td>\n",
              "      <td>64311</td>\n",
              "      <td>817</td>\n",
              "      <td>0.05</td>\n",
              "      <td>98.70</td>\n",
              "      <td>1.25</td>\n",
              "    </tr>\n",
              "    <tr>\n",
              "      <th>6</th>\n",
              "      <td>Chhattisgarh</td>\n",
              "      <td>1004902</td>\n",
              "      <td>376</td>\n",
              "      <td>990968</td>\n",
              "      <td>13558</td>\n",
              "      <td>0.04</td>\n",
              "      <td>98.61</td>\n",
              "      <td>1.35</td>\n",
              "    </tr>\n",
              "    <tr>\n",
              "      <th>7</th>\n",
              "      <td>Dadra and Nagar Haveli and Daman and Diu</td>\n",
              "      <td>10670</td>\n",
              "      <td>5</td>\n",
              "      <td>10661</td>\n",
              "      <td>4</td>\n",
              "      <td>0.05</td>\n",
              "      <td>99.92</td>\n",
              "      <td>0.04</td>\n",
              "    </tr>\n",
              "    <tr>\n",
              "      <th>8</th>\n",
              "      <td>Delhi</td>\n",
              "      <td>1438250</td>\n",
              "      <td>377</td>\n",
              "      <td>1412790</td>\n",
              "      <td>25083</td>\n",
              "      <td>0.03</td>\n",
              "      <td>98.23</td>\n",
              "      <td>1.74</td>\n",
              "    </tr>\n",
              "    <tr>\n",
              "      <th>9</th>\n",
              "      <td>Goa</td>\n",
              "      <td>174891</td>\n",
              "      <td>702</td>\n",
              "      <td>170972</td>\n",
              "      <td>3217</td>\n",
              "      <td>0.40</td>\n",
              "      <td>97.76</td>\n",
              "      <td>1.84</td>\n",
              "    </tr>\n",
              "    <tr>\n",
              "      <th>10</th>\n",
              "      <td>Gujarat</td>\n",
              "      <td>825629</td>\n",
              "      <td>161</td>\n",
              "      <td>815386</td>\n",
              "      <td>10082</td>\n",
              "      <td>0.02</td>\n",
              "      <td>98.76</td>\n",
              "      <td>1.22</td>\n",
              "    </tr>\n",
              "    <tr>\n",
              "      <th>11</th>\n",
              "      <td>Haryana</td>\n",
              "      <td>770659</td>\n",
              "      <td>351</td>\n",
              "      <td>760501</td>\n",
              "      <td>9807</td>\n",
              "      <td>0.05</td>\n",
              "      <td>98.68</td>\n",
              "      <td>1.27</td>\n",
              "    </tr>\n",
              "    <tr>\n",
              "      <th>12</th>\n",
              "      <td>Himachal Pradesh</td>\n",
              "      <td>215893</td>\n",
              "      <td>1521</td>\n",
              "      <td>210733</td>\n",
              "      <td>3639</td>\n",
              "      <td>0.70</td>\n",
              "      <td>97.61</td>\n",
              "      <td>1.69</td>\n",
              "    </tr>\n",
              "    <tr>\n",
              "      <th>13</th>\n",
              "      <td>Jammu and Kashmir</td>\n",
              "      <td>326990</td>\n",
              "      <td>1247</td>\n",
              "      <td>321329</td>\n",
              "      <td>4414</td>\n",
              "      <td>0.38</td>\n",
              "      <td>98.27</td>\n",
              "      <td>1.35</td>\n",
              "    </tr>\n",
              "    <tr>\n",
              "      <th>14</th>\n",
              "      <td>Jharkhand</td>\n",
              "      <td>348079</td>\n",
              "      <td>117</td>\n",
              "      <td>342829</td>\n",
              "      <td>5133</td>\n",
              "      <td>0.03</td>\n",
              "      <td>98.49</td>\n",
              "      <td>1.47</td>\n",
              "    </tr>\n",
              "    <tr>\n",
              "      <th>15</th>\n",
              "      <td>Karnataka</td>\n",
              "      <td>2962408</td>\n",
              "      <td>16269</td>\n",
              "      <td>2908622</td>\n",
              "      <td>37517</td>\n",
              "      <td>0.55</td>\n",
              "      <td>98.18</td>\n",
              "      <td>1.27</td>\n",
              "    </tr>\n",
              "    <tr>\n",
              "      <th>16</th>\n",
              "      <td>Kerala</td>\n",
              "      <td>4390489</td>\n",
              "      <td>209335</td>\n",
              "      <td>4158504</td>\n",
              "      <td>22650</td>\n",
              "      <td>4.77</td>\n",
              "      <td>94.72</td>\n",
              "      <td>0.52</td>\n",
              "    </tr>\n",
              "    <tr>\n",
              "      <th>17</th>\n",
              "      <td>Ladakh</td>\n",
              "      <td>20608</td>\n",
              "      <td>30</td>\n",
              "      <td>20371</td>\n",
              "      <td>207</td>\n",
              "      <td>0.15</td>\n",
              "      <td>98.85</td>\n",
              "      <td>1.00</td>\n",
              "    </tr>\n",
              "    <tr>\n",
              "      <th>18</th>\n",
              "      <td>Lakshadweep</td>\n",
              "      <td>10353</td>\n",
              "      <td>5</td>\n",
              "      <td>10297</td>\n",
              "      <td>51</td>\n",
              "      <td>0.05</td>\n",
              "      <td>99.46</td>\n",
              "      <td>0.49</td>\n",
              "    </tr>\n",
              "    <tr>\n",
              "      <th>19</th>\n",
              "      <td>Madhya Pradesh</td>\n",
              "      <td>792353</td>\n",
              "      <td>131</td>\n",
              "      <td>781705</td>\n",
              "      <td>10517</td>\n",
              "      <td>0.02</td>\n",
              "      <td>98.66</td>\n",
              "      <td>1.33</td>\n",
              "    </tr>\n",
              "    <tr>\n",
              "      <th>20</th>\n",
              "      <td>Maharashtra</td>\n",
              "      <td>6500617</td>\n",
              "      <td>53427</td>\n",
              "      <td>6309021</td>\n",
              "      <td>138169</td>\n",
              "      <td>0.82</td>\n",
              "      <td>97.05</td>\n",
              "      <td>2.13</td>\n",
              "    </tr>\n",
              "    <tr>\n",
              "      <th>21</th>\n",
              "      <td>Manipur</td>\n",
              "      <td>117230</td>\n",
              "      <td>2617</td>\n",
              "      <td>112801</td>\n",
              "      <td>1812</td>\n",
              "      <td>2.23</td>\n",
              "      <td>96.22</td>\n",
              "      <td>1.55</td>\n",
              "    </tr>\n",
              "    <tr>\n",
              "      <th>22</th>\n",
              "      <td>Meghalaya</td>\n",
              "      <td>78359</td>\n",
              "      <td>1859</td>\n",
              "      <td>75141</td>\n",
              "      <td>1359</td>\n",
              "      <td>2.37</td>\n",
              "      <td>95.89</td>\n",
              "      <td>1.73</td>\n",
              "    </tr>\n",
              "    <tr>\n",
              "      <th>23</th>\n",
              "      <td>Mizoram</td>\n",
              "      <td>72883</td>\n",
              "      <td>13369</td>\n",
              "      <td>59273</td>\n",
              "      <td>241</td>\n",
              "      <td>18.34</td>\n",
              "      <td>81.33</td>\n",
              "      <td>0.33</td>\n",
              "    </tr>\n",
              "    <tr>\n",
              "      <th>24</th>\n",
              "      <td>Nagaland</td>\n",
              "      <td>30657</td>\n",
              "      <td>580</td>\n",
              "      <td>29432</td>\n",
              "      <td>645</td>\n",
              "      <td>1.89</td>\n",
              "      <td>96.00</td>\n",
              "      <td>2.10</td>\n",
              "    </tr>\n",
              "    <tr>\n",
              "      <th>25</th>\n",
              "      <td>Odisha</td>\n",
              "      <td>1016833</td>\n",
              "      <td>5919</td>\n",
              "      <td>1002810</td>\n",
              "      <td>8104</td>\n",
              "      <td>0.58</td>\n",
              "      <td>98.62</td>\n",
              "      <td>0.80</td>\n",
              "    </tr>\n",
              "    <tr>\n",
              "      <th>26</th>\n",
              "      <td>Puducherry</td>\n",
              "      <td>124836</td>\n",
              "      <td>860</td>\n",
              "      <td>122153</td>\n",
              "      <td>1823</td>\n",
              "      <td>0.69</td>\n",
              "      <td>97.85</td>\n",
              "      <td>1.46</td>\n",
              "    </tr>\n",
              "    <tr>\n",
              "      <th>27</th>\n",
              "      <td>Punjab</td>\n",
              "      <td>601072</td>\n",
              "      <td>309</td>\n",
              "      <td>584306</td>\n",
              "      <td>16457</td>\n",
              "      <td>0.05</td>\n",
              "      <td>97.21</td>\n",
              "      <td>2.74</td>\n",
              "    </tr>\n",
              "    <tr>\n",
              "      <th>28</th>\n",
              "      <td>Rajasthan</td>\n",
              "      <td>954198</td>\n",
              "      <td>90</td>\n",
              "      <td>945154</td>\n",
              "      <td>8954</td>\n",
              "      <td>0.01</td>\n",
              "      <td>99.05</td>\n",
              "      <td>0.94</td>\n",
              "    </tr>\n",
              "    <tr>\n",
              "      <th>29</th>\n",
              "      <td>Sikkim</td>\n",
              "      <td>30650</td>\n",
              "      <td>809</td>\n",
              "      <td>29464</td>\n",
              "      <td>377</td>\n",
              "      <td>2.64</td>\n",
              "      <td>96.13</td>\n",
              "      <td>1.23</td>\n",
              "    </tr>\n",
              "    <tr>\n",
              "      <th>30</th>\n",
              "      <td>Tamil Nadu</td>\n",
              "      <td>2635419</td>\n",
              "      <td>16522</td>\n",
              "      <td>2583707</td>\n",
              "      <td>35190</td>\n",
              "      <td>0.63</td>\n",
              "      <td>98.04</td>\n",
              "      <td>1.34</td>\n",
              "    </tr>\n",
              "    <tr>\n",
              "      <th>31</th>\n",
              "      <td>Telengana</td>\n",
              "      <td>661866</td>\n",
              "      <td>5253</td>\n",
              "      <td>652716</td>\n",
              "      <td>3897</td>\n",
              "      <td>0.79</td>\n",
              "      <td>98.62</td>\n",
              "      <td>0.59</td>\n",
              "    </tr>\n",
              "    <tr>\n",
              "      <th>32</th>\n",
              "      <td>Tripura</td>\n",
              "      <td>83672</td>\n",
              "      <td>485</td>\n",
              "      <td>82382</td>\n",
              "      <td>805</td>\n",
              "      <td>0.58</td>\n",
              "      <td>98.46</td>\n",
              "      <td>0.96</td>\n",
              "    </tr>\n",
              "    <tr>\n",
              "      <th>33</th>\n",
              "      <td>Uttar Pradesh</td>\n",
              "      <td>1709555</td>\n",
              "      <td>175</td>\n",
              "      <td>1686497</td>\n",
              "      <td>22883</td>\n",
              "      <td>0.01</td>\n",
              "      <td>98.65</td>\n",
              "      <td>1.34</td>\n",
              "    </tr>\n",
              "    <tr>\n",
              "      <th>34</th>\n",
              "      <td>Uttarakhand</td>\n",
              "      <td>343242</td>\n",
              "      <td>293</td>\n",
              "      <td>335560</td>\n",
              "      <td>7389</td>\n",
              "      <td>0.09</td>\n",
              "      <td>97.76</td>\n",
              "      <td>2.15</td>\n",
              "    </tr>\n",
              "    <tr>\n",
              "      <th>35</th>\n",
              "      <td>West Bengal</td>\n",
              "      <td>1557414</td>\n",
              "      <td>8096</td>\n",
              "      <td>1530731</td>\n",
              "      <td>18587</td>\n",
              "      <td>0.52</td>\n",
              "      <td>98.29</td>\n",
              "      <td>1.19</td>\n",
              "    </tr>\n",
              "  </tbody>\n",
              "</table>\n",
              "</div>\n",
              "      <button class=\"colab-df-convert\" onclick=\"convertToInteractive('df-ddd83574-1ba4-472c-902d-c36d1d0b3c25')\"\n",
              "              title=\"Convert this dataframe to an interactive table.\"\n",
              "              style=\"display:none;\">\n",
              "        \n",
              "  <svg xmlns=\"http://www.w3.org/2000/svg\" height=\"24px\"viewBox=\"0 0 24 24\"\n",
              "       width=\"24px\">\n",
              "    <path d=\"M0 0h24v24H0V0z\" fill=\"none\"/>\n",
              "    <path d=\"M18.56 5.44l.94 2.06.94-2.06 2.06-.94-2.06-.94-.94-2.06-.94 2.06-2.06.94zm-11 1L8.5 8.5l.94-2.06 2.06-.94-2.06-.94L8.5 2.5l-.94 2.06-2.06.94zm10 10l.94 2.06.94-2.06 2.06-.94-2.06-.94-.94-2.06-.94 2.06-2.06.94z\"/><path d=\"M17.41 7.96l-1.37-1.37c-.4-.4-.92-.59-1.43-.59-.52 0-1.04.2-1.43.59L10.3 9.45l-7.72 7.72c-.78.78-.78 2.05 0 2.83L4 21.41c.39.39.9.59 1.41.59.51 0 1.02-.2 1.41-.59l7.78-7.78 2.81-2.81c.8-.78.8-2.07 0-2.86zM5.41 20L4 18.59l7.72-7.72 1.47 1.35L5.41 20z\"/>\n",
              "  </svg>\n",
              "      </button>\n",
              "      \n",
              "  <style>\n",
              "    .colab-df-container {\n",
              "      display:flex;\n",
              "      flex-wrap:wrap;\n",
              "      gap: 12px;\n",
              "    }\n",
              "\n",
              "    .colab-df-convert {\n",
              "      background-color: #E8F0FE;\n",
              "      border: none;\n",
              "      border-radius: 50%;\n",
              "      cursor: pointer;\n",
              "      display: none;\n",
              "      fill: #1967D2;\n",
              "      height: 32px;\n",
              "      padding: 0 0 0 0;\n",
              "      width: 32px;\n",
              "    }\n",
              "\n",
              "    .colab-df-convert:hover {\n",
              "      background-color: #E2EBFA;\n",
              "      box-shadow: 0px 1px 2px rgba(60, 64, 67, 0.3), 0px 1px 3px 1px rgba(60, 64, 67, 0.15);\n",
              "      fill: #174EA6;\n",
              "    }\n",
              "\n",
              "    [theme=dark] .colab-df-convert {\n",
              "      background-color: #3B4455;\n",
              "      fill: #D2E3FC;\n",
              "    }\n",
              "\n",
              "    [theme=dark] .colab-df-convert:hover {\n",
              "      background-color: #434B5C;\n",
              "      box-shadow: 0px 1px 3px 1px rgba(0, 0, 0, 0.15);\n",
              "      filter: drop-shadow(0px 1px 2px rgba(0, 0, 0, 0.3));\n",
              "      fill: #FFFFFF;\n",
              "    }\n",
              "  </style>\n",
              "\n",
              "      <script>\n",
              "        const buttonEl =\n",
              "          document.querySelector('#df-ddd83574-1ba4-472c-902d-c36d1d0b3c25 button.colab-df-convert');\n",
              "        buttonEl.style.display =\n",
              "          google.colab.kernel.accessAllowed ? 'block' : 'none';\n",
              "\n",
              "        async function convertToInteractive(key) {\n",
              "          const element = document.querySelector('#df-ddd83574-1ba4-472c-902d-c36d1d0b3c25');\n",
              "          const dataTable =\n",
              "            await google.colab.kernel.invokeFunction('convertToInteractive',\n",
              "                                                     [key], {});\n",
              "          if (!dataTable) return;\n",
              "\n",
              "          const docLinkHtml = 'Like what you see? Visit the ' +\n",
              "            '<a target=\"_blank\" href=https://colab.research.google.com/notebooks/data_table.ipynb>data table notebook</a>'\n",
              "            + ' to learn more about interactive tables.';\n",
              "          element.innerHTML = '';\n",
              "          dataTable['output_type'] = 'display_data';\n",
              "          await google.colab.output.renderOutput(dataTable, element);\n",
              "          const docLink = document.createElement('div');\n",
              "          docLink.innerHTML = docLinkHtml;\n",
              "          element.appendChild(docLink);\n",
              "        }\n",
              "      </script>\n",
              "    </div>\n",
              "  </div>\n",
              "  "
            ],
            "text/plain": [
              "                                   State/UTs  ...  Death Ratio (%)\n",
              "0                        Andaman and Nicobar  ...             1.70\n",
              "1                             Andhra Pradesh  ...             0.69\n",
              "2                          Arunachal Pradesh  ...             0.50\n",
              "3                                      Assam  ...             0.97\n",
              "4                                      Bihar  ...             1.33\n",
              "5                                 Chandigarh  ...             1.25\n",
              "6                               Chhattisgarh  ...             1.35\n",
              "7   Dadra and Nagar Haveli and Daman and Diu  ...             0.04\n",
              "8                                      Delhi  ...             1.74\n",
              "9                                        Goa  ...             1.84\n",
              "10                                   Gujarat  ...             1.22\n",
              "11                                   Haryana  ...             1.27\n",
              "12                          Himachal Pradesh  ...             1.69\n",
              "13                         Jammu and Kashmir  ...             1.35\n",
              "14                                 Jharkhand  ...             1.47\n",
              "15                                 Karnataka  ...             1.27\n",
              "16                                    Kerala  ...             0.52\n",
              "17                                    Ladakh  ...             1.00\n",
              "18                               Lakshadweep  ...             0.49\n",
              "19                            Madhya Pradesh  ...             1.33\n",
              "20                               Maharashtra  ...             2.13\n",
              "21                                   Manipur  ...             1.55\n",
              "22                                 Meghalaya  ...             1.73\n",
              "23                                   Mizoram  ...             0.33\n",
              "24                                  Nagaland  ...             2.10\n",
              "25                                    Odisha  ...             0.80\n",
              "26                                Puducherry  ...             1.46\n",
              "27                                    Punjab  ...             2.74\n",
              "28                                 Rajasthan  ...             0.94\n",
              "29                                    Sikkim  ...             1.23\n",
              "30                                Tamil Nadu  ...             1.34\n",
              "31                                 Telengana  ...             0.59\n",
              "32                                   Tripura  ...             0.96\n",
              "33                             Uttar Pradesh  ...             1.34\n",
              "34                               Uttarakhand  ...             2.15\n",
              "35                               West Bengal  ...             1.19\n",
              "\n",
              "[36 rows x 8 columns]"
            ]
          },
          "metadata": {},
          "execution_count": 2
        }
      ]
    },
    {
      "cell_type": "markdown",
      "metadata": {
        "id": "y5vEHPsG7M6T"
      },
      "source": [
        ""
      ]
    },
    {
      "cell_type": "code",
      "metadata": {
        "id": "5_cF7wm4sD_o"
      },
      "source": [
        "file = \"Latest Covid-19 India Status.csv\""
      ],
      "execution_count": 6,
      "outputs": []
    },
    {
      "cell_type": "code",
      "metadata": {
        "id": "808xp7x2sJqb"
      },
      "source": [
        "names = ['State/UTs',\t'Total Cases',\t'Active',\t'Discharged',\t'Deaths',\t'Active Ratio (%)',\t'Discharge Ratio (%)',\t'Death Ratio (%)']"
      ],
      "execution_count": 7,
      "outputs": []
    },
    {
      "cell_type": "code",
      "metadata": {
        "id": "P5oW-oV4tLGJ"
      },
      "source": [
        "data = pd.read_csv(file, names=names, delimiter=' ')"
      ],
      "execution_count": 8,
      "outputs": []
    },
    {
      "cell_type": "code",
      "metadata": {
        "colab": {
          "base_uri": "https://localhost:8080/"
        },
        "id": "JazUgq4muCws",
        "outputId": "1eb5bf3f-0895-4a18-eb38-c8d9238696d9"
      },
      "source": [
        "data.shape"
      ],
      "execution_count": 9,
      "outputs": [
        {
          "output_type": "execute_result",
          "data": {
            "text/plain": [
              "(37, 8)"
            ]
          },
          "metadata": {},
          "execution_count": 9
        }
      ]
    },
    {
      "cell_type": "code",
      "metadata": {
        "colab": {
          "base_uri": "https://localhost:8080/"
        },
        "id": "SjoBmOozyhPb",
        "outputId": "d2a50451-edbf-4b5a-f4a5-b06f343736c3"
      },
      "source": [
        "data.count"
      ],
      "execution_count": 10,
      "outputs": [
        {
          "output_type": "execute_result",
          "data": {
            "text/plain": [
              "<bound method DataFrame.count of                                             State/UTs  ...                      Death Ratio (%)\n",
              "0                                     State/UTs,Total  ...                                  (%)\n",
              "1                                             Andaman  ...                                  NaN\n",
              "2                                              Andhra  ...                                  NaN\n",
              "3                                           Arunachal  ...                                  NaN\n",
              "4       Assam,595669,5615,584296,5758,0.94,98.09,0.97  ...                                  NaN\n",
              "5         Bihar,725833,77,716098,9658,0.01,98.66,1.33  ...                                  NaN\n",
              "6        Chandigarh,65160,32,64311,817,0.05,98.7,1.25  ...                                  NaN\n",
              "7   Chhattisgarh,1004902,376,990968,13558,0.04,98....  ...                                  NaN\n",
              "8                                               Dadra  ...  Diu,10670,5,10661,4,0.05,99.92,0.04\n",
              "9     Delhi,1438250,377,1412790,25083,0.03,98.23,1.74  ...                                  NaN\n",
              "10          Goa,174891,702,170972,3217,0.4,97.76,1.84  ...                                  NaN\n",
              "11    Gujarat,825629,161,815386,10082,0.02,98.76,1.22  ...                                  NaN\n",
              "12     Haryana,770659,351,760501,9807,0.05,98.68,1.27  ...                                  NaN\n",
              "13                                           Himachal  ...                                  NaN\n",
              "14                                              Jammu  ...                                  NaN\n",
              "15   Jharkhand,348079,117,342829,5133,0.03,98.49,1.47  ...                                  NaN\n",
              "16  Karnataka,2962408,16269,2908622,37517,0.55,98....  ...                                  NaN\n",
              "17  Kerala,4390489,209335,4158504,22650,4.77,94.72...  ...                                  NaN\n",
              "18           Ladakh,20608,30,20371,207,0.15,98.85,1.0  ...                                  NaN\n",
              "19       Lakshadweep,10353,5,10297,51,0.05,99.46,0.49  ...                                  NaN\n",
              "20                                             Madhya  ...                                  NaN\n",
              "21  Maharashtra,6500617,53427,6309021,138169,0.82,...  ...                                  NaN\n",
              "22    Manipur,117230,2617,112801,1812,2.23,96.22,1.55  ...                                  NaN\n",
              "23    Meghalaya,78359,1859,75141,1359,2.37,95.89,1.73  ...                                  NaN\n",
              "24     Mizoram,72883,13369,59273,241,18.34,81.33,0.33  ...                                  NaN\n",
              "25         Nagaland,30657,580,29432,645,1.89,96.0,2.1  ...                                  NaN\n",
              "26    Odisha,1016833,5919,1002810,8104,0.58,98.62,0.8  ...                                  NaN\n",
              "27  Puducherry,124836,860,122153,1823,0.69,97.85,1.46  ...                                  NaN\n",
              "28     Punjab,601072,309,584306,16457,0.05,97.21,2.74  ...                                  NaN\n",
              "29    Rajasthan,954198,90,945154,8954,0.01,99.05,0.94  ...                                  NaN\n",
              "30         Sikkim,30650,809,29464,377,2.64,96.13,1.23  ...                                  NaN\n",
              "31                                              Tamil  ...                                  NaN\n",
              "32  Telengana,661866,5253,652716,3897,0.79,98.62,0.59  ...                                  NaN\n",
              "33        Tripura,83672,485,82382,805,0.58,98.46,0.96  ...                                  NaN\n",
              "34                                              Uttar  ...                                  NaN\n",
              "35  Uttarakhand,343242,293,335560,7389,0.09,97.76,...  ...                                  NaN\n",
              "36                                               West  ...                                  NaN\n",
              "\n",
              "[37 rows x 8 columns]>"
            ]
          },
          "metadata": {},
          "execution_count": 10
        }
      ]
    },
    {
      "cell_type": "code",
      "metadata": {
        "colab": {
          "base_uri": "https://localhost:8080/",
          "height": 297
        },
        "id": "zY8ItR6QbKez",
        "outputId": "ceae4520-f215-44ca-8afc-1ab730038932"
      },
      "source": [
        "sample_data={'Active':np.random.rand(20),\n",
        "      'Deaths': np.random.rand(20)}\n",
        "df= pd.DataFrame(sample_data)\n",
        "df.plot(x='Active', y='Deaths', style='o')\n"
      ],
      "execution_count": 11,
      "outputs": [
        {
          "output_type": "execute_result",
          "data": {
            "text/plain": [
              "<matplotlib.axes._subplots.AxesSubplot at 0x7fe462fa8350>"
            ]
          },
          "metadata": {},
          "execution_count": 11
        },
        {
          "output_type": "display_data",
          "data": {
            "image/png": "[encoded data removed]",
            "text/plain": [
              "<Figure size 432x288 with 1 Axes>"
            ]
          },
          "metadata": {
            "needs_background": "light"
          }
        }
      ]
    },
    {
      "cell_type": "code",
      "metadata": {
        "id": "6FfGf5hl7sef",
        "colab": {
          "base_uri": "https://localhost:8080/",
          "height": 297
        },
        "outputId": "8b0e2ce2-ab55-437f-ec83-4005ba3d2f58"
      },
      "source": [
        "df.plot(x='Active', y='Deaths')"
      ],
      "execution_count": 12,
      "outputs": [
        {
          "output_type": "execute_result",
          "data": {
            "text/plain": [
              "<matplotlib.axes._subplots.AxesSubplot at 0x7fe45ca92e90>"
            ]
          },
          "metadata": {},
          "execution_count": 12
        },
        {
          "output_type": "display_data",
          "data": {
            "image/png": "[encoded data removed]",
            "text/plain": [
              "<Figure size 432x288 with 1 Axes>"
            ]
          },
          "metadata": {
            "needs_background": "light"
          }
        }
      ]
    },
    {
      "cell_type": "code",
      "metadata": {
        "colab": {
          "base_uri": "https://localhost:8080/",
          "height": 264
        },
        "id": "GT0gjlgAZ8RI",
        "outputId": "39fd8e69-7d45-4611-dad2-e3df7433cacf"
      },
      "source": [
        "plt.scatter(df['Active'], df['Deaths'])\n",
        "plt.show() "
      ],
      "execution_count": 13,
      "outputs": [
        {
          "output_type": "display_data",
          "data": {
            "image/png": "[encoded data removed]",
            "text/plain": [
              "<Figure size 432x288 with 1 Axes>"
            ]
          },
          "metadata": {
            "needs_background": "light"
          }
        }
      ]
    },
    {
      "cell_type": "code",
      "source": [
        ""
      ],
      "metadata": {
        "id": "tpIfTdxEsrqx"
      },
      "execution_count": 13,
      "outputs": []
    }
  ]
}